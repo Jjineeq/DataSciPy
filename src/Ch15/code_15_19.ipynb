model2.save('./drive/My Drive/myFirstModel.h5')
!ls ./drive/'My Drive' -la

#################################################
model_imported = keras.models.load_model('./drive/My Drive/myFirstModel.h5')
model_imported.summary()

#################################################
import cv2
img = cv2.imread('./drive/My Drive/bag_cartoon.png', cv2.IMREAD_GRAYSCALE)
plt.imshow(img)

#################################################
img = cv2.resize(img, (28, 28) )
plt.imshow(img)

#################################################
input_data = img[np.newaxis, :, :]
yhat = np.argmax( model_imported.predict( input_data ) )
print(class_names[yhat])