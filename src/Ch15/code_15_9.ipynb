test_images.shape

###############################
import numpy as np
randIdx = np.random.randint(0, 1000)
plt.imshow(test_images[randIdx])

###############################
yhat = model.predict( test_images[randIdx][np.newaxis, :, :])
yhat
