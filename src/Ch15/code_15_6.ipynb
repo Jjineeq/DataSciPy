fig = plt.figure()
ax1 = fig.add_subplot(1, 3, 1)
ax2 = fig.add_subplot(1, 3, 2)
ax3 = fig.add_subplot(1, 3, 3)

ax1.imshow(train_images[0])       # 첫 번째 훈련용 데이터
ax2.imshow(train_images[1])       # 두 번째 훈련용 데이터
ax3.imshow(train_images[2])       # 세 번째 훈련용 데이터
plt.show()

###############################################################
print(train_labels[:3])     # 첫 세 개의 레이블을 출력해 본다.