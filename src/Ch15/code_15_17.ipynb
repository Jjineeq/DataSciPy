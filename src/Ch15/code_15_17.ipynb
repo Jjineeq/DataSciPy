pred_1 = model.predict(test_images)
pred_2 = model2.predict(test_images)
pred_1, pred_2

#################################################
y_hat1 = np.argmax( pred_1, axis = 1)
y_hat2 = np.argmax( pred_2, axis = 1)
y_hat1, y_hat

#################################################
from sklearn.metrics import confusion_matrix
conf_mat1 = confusion_matrix(test_labels, y_hat1)
conf_mat2 = confusion_matrix(test_labels, y_hat2)
plt.matshow(conf_mat1)
plt.matshow(conf_mat2)