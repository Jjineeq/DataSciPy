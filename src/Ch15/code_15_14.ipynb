input_data = img[np.newaxis, :, :]
input_data.shape

#################################################
class_names = ['T-shirt/top', 'Trouser', 'Pullover', 'Dress', 'Coat',
              'Sandal', 'Shirt', 'Sneaker', 'Bag', 'Ankle boot']
yhat = np.argmax( model.predict( input_data ) )

print(class_names[yhat])

#################################################
input_mirror = input_data[:, :, ::-1]
plt.imshow(input_mirror[0])

#################################################
class_names = ['T-shirt/top', 'Trouser', 'Pullover', 'Dress', 'Coat',
              'Sandal', 'Shirt', 'Sneaker', 'Bag', 'Ankle boot']
yhat = np.argmax( model.predict( input_mirror ) )

print(class_names[yhat])