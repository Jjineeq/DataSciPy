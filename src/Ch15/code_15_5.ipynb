import numpy as np 
from sklearn import linear_model  # scikit-learn 모듈을 가져온다

regr = linear_model.LinearRegression()

X = [[164], [179], [162], [170]]  # 다중회귀에도 사용하도록 함 
y = [53, 63, 55, 59]              # y = f(X)의 결과 
regr.fit(X, y)

###############################################################
print(train_images.shape)  # 학습 이미지의 형태와 레이블을 출력한다
print(train_labels)        # 레이블에는 0에서 9까지의 숫자가 있다
print(test_images.shape)