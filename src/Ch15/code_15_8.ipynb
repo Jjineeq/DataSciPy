model.compile(optimizer='adam',
              loss='sparse_categorical_crossentropy',
              metrics=['accuracy'])

############################################
model.fit(train_images, train_labels, epochs=5)

############################################
test_loss, test_acc = model.evaluate(test_images,  test_labels, verbose=2)
print('\n테스트 정확도:', test_acc)