{
 "cells": [
  {
   "cell_type": "markdown",
   "id": "c4ccb9c8",
   "metadata": {},
   "source": [
    "### 2018312031 장성호\n",
    "#### 파이썬 프로그래밍 응용 1장 과제"
   ]
  },
  {
   "cell_type": "code",
   "execution_count": 9,
   "id": "01355bd4",
   "metadata": {},
   "outputs": [],
   "source": [
    "from turtle import *"
   ]
  },
  {
   "cell_type": "code",
   "execution_count": 1,
   "id": "09be0e8c",
   "metadata": {},
   "outputs": [
    {
     "name": "stdout",
     "output_type": "stream",
     "text": [
      "도전문제 1.1\n",
      "24\n",
      "0.5\n",
      "200\n",
      "1657\n",
      "12.34\n",
      "452.3893421169302\n"
     ]
    }
   ],
   "source": [
    "from math import pi\n",
    "print(\"도전문제 1.1\")\n",
    "print(4*3*2*1)\n",
    "print(1/2)\n",
    "print(300-100)\n",
    "print(423+1234)\n",
    "print(1/100 * 1234)\n",
    "print(pi*12.0*12.0)"
   ]
  },
  {
   "cell_type": "code",
   "execution_count": 2,
   "id": "c03c3584",
   "metadata": {},
   "outputs": [],
   "source": [
    "import turtle\n",
    "# 1.2 (1)\n",
    "t = turtle.Turtle()\n",
    "t.shape('turtle')\n",
    "t.forward(120) # 120pixel만큼 전진\n",
    "t.left(120) # 120도 회전\n",
    "t.forward(120)\n",
    "t.left(120)\n",
    "t.forward(120)\n",
    "\n",
    "t.left(30) #이어서 그리기 위한 회전\n",
    "\n",
    "#1.2 (2)\n",
    "t.forward(120)\n",
    "t.left(90)\n",
    "t.forward(120)\n",
    "t.left(90)\n",
    "t.forward(120)\n",
    "t.left(90)\n",
    "t.forward(120)\n",
    "\n",
    "turtle.penup()\n",
    "t.right(30) #이어서 그리기 위한 회전\n",
    "t.forward(100)\n",
    "turtle.pendown()\n",
    "\n",
    "t.forward(50)\n",
    "t.left(60)\n",
    "t.forward(50)\n",
    "t.left(60)\n",
    "t.forward(50)\n",
    "t.left(60)\n",
    "t.forward(50)\n",
    "t.left(60)\n",
    "t.forward(50)\n",
    "t.left(60)\n",
    "t.forward(50)\n",
    "\n",
    "turtle.penup()\n",
    "t.left(30) # 이어서 그리기 위한 회전\n",
    "t.forward(200) # 가시성을 위해 일부 떨어짐\n",
    "turtle.pendown()\n",
    "\n",
    "t.forward(50)\n",
    "t.left(36)\n",
    "t.forward(50)\n",
    "t.left(36)\n",
    "t.forward(50)\n",
    "t.left(36)\n",
    "t.forward(50)\n",
    "t.left(36)\n",
    "t.forward(50)\n",
    "t.left(36)\n",
    "t.forward(50)\n",
    "t.left(36)\n",
    "t.forward(50)\n",
    "t.left(36)\n",
    "t.forward(50)\n",
    "t.left(36)\n",
    "t.forward(50)\n",
    "t.left(36)\n",
    "t.forward(50)\n",
    "t.left(36)\n",
    "\n",
    "\n",
    "turtle.exitonclick() # turtle 종료"
   ]
  },
  {
   "cell_type": "code",
   "execution_count": 3,
   "id": "74fd316c",
   "metadata": {},
   "outputs": [
    {
     "name": "stdout",
     "output_type": "stream",
     "text": [
      "안녕하세요? 여러분\n",
      "저는 파이썬을 무척 좋아합니다.\n",
      "9*8은 72 입니다\n",
      "안녕히 계세요\n"
     ]
    }
   ],
   "source": [
    "print(\"안녕하세요? 여러분\")\n",
    "print(\"저는 파이썬을 무척 좋아합니다.\")\n",
    "print(\"9*8은\", 9*8, \"입니다\")\n",
    "print(\"안녕히 계세요\")"
   ]
  },
  {
   "cell_type": "code",
   "execution_count": 7,
   "id": "b89279f4",
   "metadata": {},
   "outputs": [
    {
     "name": "stdout",
     "output_type": "stream",
     "text": [
      "50+30 =  80\n",
      "50-30 =  20\n",
      "50*30 =  1500\n",
      "50/30 =  1.6666666666666667\n"
     ]
    }
   ],
   "source": [
    "print(\"50+30 = \",50+30)\n",
    "print(\"50-30 = \",50-30)\n",
    "print(\"50*30 = \",50*30)\n",
    "print(\"50/30 = \",50/30)"
   ]
  },
  {
   "cell_type": "code",
   "execution_count": null,
   "id": "363e12d4",
   "metadata": {},
   "outputs": [],
   "source": [
    "t.forward(100)\n",
    "t.left(120)\n",
    "t.forward(100)\n",
    "t.left(120)\n",
    "t.forward(100)"
   ]
  },
  {
   "cell_type": "markdown",
   "id": "dfaa0734",
   "metadata": {},
   "source": [
    "------------------\n",
    "## 2장"
   ]
  },
  {
   "cell_type": "code",
   "execution_count": 16,
   "id": "c872966e",
   "metadata": {},
   "outputs": [
    {
     "data": {
      "text/plain": [
       "22.395413419331717"
      ]
     },
     "execution_count": 16,
     "metadata": {},
     "output_type": "execute_result"
    }
   ],
   "source": [
    "def bmi(weight,height):\n",
    "    return  weight/height**2\n",
    "bmi(75,1.83)"
   ]
  },
  {
   "cell_type": "code",
   "execution_count": 18,
   "id": "8ac3d07e",
   "metadata": {},
   "outputs": [
    {
     "name": "stdout",
     "output_type": "stream",
     "text": [
      "26.636019469983776\n",
      "22.395413419331717\n"
     ]
    }
   ],
   "source": [
    "def bmi(weight,height):\n",
    "    return  weight/height**2\n",
    "print(bmi(78.8,1.72))\n",
    "print(bmi(75,1.83))"
   ]
  },
  {
   "cell_type": "code",
   "execution_count": 19,
   "id": "b954594b",
   "metadata": {},
   "outputs": [
    {
     "name": "stdout",
     "output_type": "stream",
     "text": [
      "피자면적은 1256.6370614359173\n"
     ]
    }
   ],
   "source": [
    "def pizza(radius):\n",
    "    return pi*radius**2\n",
    "print('피자면적은', pizza(20))"
   ]
  },
  {
   "cell_type": "code",
   "execution_count": 20,
   "id": "9093b952",
   "metadata": {},
   "outputs": [
    {
     "name": "stdout",
     "output_type": "stream",
     "text": [
      "125.66370614359172\n",
      "1256.6370614359173\n",
      "188.49555921538757\n",
      "2827.4333882308138\n"
     ]
    }
   ],
   "source": [
    "def pizza_circumference(radius):\n",
    "    return 2*pi*radius\n",
    "print(pizza_circumference(20))\n",
    "print(pizza(20))\n",
    "print(pizza_circumference(30))\n",
    "print(pizza(30))"
   ]
  },
  {
   "cell_type": "code",
   "execution_count": null,
   "id": "e9bf73d2",
   "metadata": {},
   "outputs": [],
   "source": [
    "t.circle(100)\n",
    "t.circle(200)\n",
    "\n"
   ]
  }
 ],
 "metadata": {
  "kernelspec": {
   "display_name": "Python 3",
   "language": "python",
   "name": "python3"
  },
  "language_info": {
   "codemirror_mode": {
    "name": "ipython",
    "version": 3
   },
   "file_extension": ".py",
   "mimetype": "text/x-python",
   "name": "python",
   "nbconvert_exporter": "python",
   "pygments_lexer": "ipython3",
   "version": "3.8.8"
  }
 },
 "nbformat": 4,
 "nbformat_minor": 5
}
