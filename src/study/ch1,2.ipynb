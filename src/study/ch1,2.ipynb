{
 "cells": [
  {
   "cell_type": "markdown",
   "id": "fa676902",
   "metadata": {},
   "source": [
    "### 2018312031 장성호\n",
    "#### 파이썬 프로그래밍 응용 1장 과제"
   ]
  },
  {
   "cell_type": "code",
   "execution_count": null,
   "id": "8c283d6c",
   "metadata": {},
   "outputs": [],
   "source": [
    "from turtle import *"
   ]
  },
  {
   "cell_type": "code",
   "execution_count": null,
   "id": "efe06c0b",
   "metadata": {},
   "outputs": [],
   "source": [
    "from math import pi\n",
    "print(\"도전문제 1.1\")\n",
    "print(4*3*2*1)\n",
    "print(1/2)\n",
    "print(300-100)\n",
    "print(423+1234)\n",
    "print(1/100 * 1234)\n",
    "print(pi*12.0*12.0)"
   ]
  },
  {
   "cell_type": "code",
   "execution_count": null,
   "id": "c028790c",
   "metadata": {},
   "outputs": [],
   "source": [
    "import turtle\n",
    "# 1.2 (1)\n",
    "t = turtle.Turtle()\n",
    "t.shape('turtle')\n",
    "t.forward(120) # 120pixel만큼 전진\n",
    "t.left(120) # 120도 회전\n",
    "t.forward(120)\n",
    "t.left(120)\n",
    "t.forward(120)\n",
    "\n",
    "t.left(30) #이어서 그리기 위한 회전\n",
    "\n",
    "#1.2 (2)\n",
    "t.forward(120)\n",
    "t.left(90)\n",
    "t.forward(120)\n",
    "t.left(90)\n",
    "t.forward(120)\n",
    "t.left(90)\n",
    "t.forward(120)\n",
    "\n",
    "turtle.penup()\n",
    "t.right(30) #이어서 그리기 위한 회전\n",
    "t.forward(100)\n",
    "turtle.pendown()\n",
    "\n",
    "t.forward(50)\n",
    "t.left(60)\n",
    "t.forward(50)\n",
    "t.left(60)\n",
    "t.forward(50)\n",
    "t.left(60)\n",
    "t.forward(50)\n",
    "t.left(60)\n",
    "t.forward(50)\n",
    "t.left(60)\n",
    "t.forward(50)\n",
    "\n",
    "turtle.penup()\n",
    "t.left(30) # 이어서 그리기 위한 회전\n",
    "t.forward(200) # 가시성을 위해 일부 떨어짐\n",
    "turtle.pendown()\n",
    "\n",
    "t.forward(50)\n",
    "t.left(36)\n",
    "t.forward(50)\n",
    "t.left(36)\n",
    "t.forward(50)\n",
    "t.left(36)\n",
    "t.forward(50)\n",
    "t.left(36)\n",
    "t.forward(50)\n",
    "t.left(36)\n",
    "t.forward(50)\n",
    "t.left(36)\n",
    "t.forward(50)\n",
    "t.left(36)\n",
    "t.forward(50)\n",
    "t.left(36)\n",
    "t.forward(50)\n",
    "t.left(36)\n",
    "t.forward(50)\n",
    "t.left(36)\n",
    "\n",
    "\n",
    "turtle.exitonclick() # turtle 종료"
   ]
  },
  {
   "cell_type": "code",
   "execution_count": null,
   "id": "d09dd7f0",
   "metadata": {},
   "outputs": [],
   "source": [
    "print(\"안녕하세요? 여러분\")\n",
    "print(\"저는 파이썬을 무척 좋아합니다.\")\n",
    "print(\"9*8은\", 9*8, \"입니다\")\n",
    "print(\"안녕히 계세요\")"
   ]
  },
  {
   "cell_type": "code",
   "execution_count": null,
   "id": "cc95ee42",
   "metadata": {},
   "outputs": [],
   "source": [
    "print(\"50+30 = \",50+30)\n",
    "print(\"50-30 = \",50-30)\n",
    "print(\"50*30 = \",50*30)\n",
    "print(\"50/30 = \",50/30)"
   ]
  },
  {
   "cell_type": "code",
   "execution_count": null,
   "id": "eeca4e43",
   "metadata": {},
   "outputs": [],
   "source": [
    "t.forward(100)\n",
    "t.left(120)\n",
    "t.forward(100)\n",
    "t.left(120)\n",
    "t.forward(100)"
   ]
  },
  {
   "cell_type": "markdown",
   "id": "8d12be3b",
   "metadata": {},
   "source": [
    "------------------\n",
    "## 2장"
   ]
  },
  {
   "cell_type": "code",
   "execution_count": null,
   "id": "ac5f921a",
   "metadata": {},
   "outputs": [],
   "source": [
    "def bmi(weight,height):\n",
    "    return  weight/height**2\n",
    "bmi(75,1.83)"
   ]
  },
  {
   "cell_type": "code",
   "execution_count": null,
   "id": "838977d5",
   "metadata": {},
   "outputs": [],
   "source": [
    "def bmi(weight,height):\n",
    "    return  weight/height**2\n",
    "print(bmi(78.8,1.72))\n",
    "print(bmi(75,1.83))"
   ]
  },
  {
   "cell_type": "code",
   "execution_count": null,
   "id": "2d962e34",
   "metadata": {},
   "outputs": [],
   "source": [
    "def pizza(radius):\n",
    "    return pi*radius**2\n",
    "print('피자면적은', pizza(20))"
   ]
  },
  {
   "cell_type": "code",
   "execution_count": null,
   "id": "25a65475",
   "metadata": {},
   "outputs": [],
   "source": [
    "def pizza_circumference(radius):\n",
    "    return 2*pi*radius\n",
    "print(pizza_circumference(20))\n",
    "print(pizza(20))\n",
    "print(pizza_circumference(30))\n",
    "print(pizza(30))"
   ]
  },
  {
   "cell_type": "code",
   "execution_count": null,
   "id": "c0fa7cea",
   "metadata": {},
   "outputs": [],
   "source": [
    "t.circle(100)\n",
    "t.circle(200)"
   ]
  },
  {
   "cell_type": "code",
   "execution_count": null,
   "id": "78204d7b",
   "metadata": {},
   "outputs": [],
   "source": [
    "t.circle(50)\n",
    "t.circle(100)\n",
    "t.circle(200)\n",
    "\n",
    "t.left(90)\n",
    "t.circle(50)\n",
    "t.circle(100)\n",
    "t.circle(200)"
   ]
  },
  {
   "cell_type": "code",
   "execution_count": 29,
   "id": "34d00d3a",
   "metadata": {},
   "outputs": [
    {
     "name": "stdout",
     "output_type": "stream",
     "text": [
      "수령금액은 11592740.743\n"
     ]
    }
   ],
   "source": [
    "def calcurator(money, rate, period):\n",
    "    return money * (1+rate)**(period)\n",
    "print(\"수령금액은\", calcurator(10000000,0.03,5))"
   ]
  },
  {
   "cell_type": "code",
   "execution_count": 30,
   "id": "84b0e869",
   "metadata": {},
   "outputs": [
    {
     "name": "stdout",
     "output_type": "stream",
     "text": [
      "수령금액은 115927407.43\n"
     ]
    }
   ],
   "source": [
    "print(\"수령금액은\", calcurator(100000000,0.03,5))"
   ]
  },
  {
   "cell_type": "code",
   "execution_count": 31,
   "id": "99adb224",
   "metadata": {},
   "outputs": [],
   "source": [
    "def bmi(weight,height):\n",
    "    return  weight/height**2"
   ]
  },
  {
   "cell_type": "code",
   "execution_count": 34,
   "id": "0815ead4",
   "metadata": {},
   "outputs": [],
   "source": [
    "def avg(*args):\n",
    "    result = 0\n",
    "    sum = 0\n",
    "    for num in args:\n",
    "        sum += num\n",
    "    result = sum/len(args)\n",
    "    print(result)"
   ]
  },
  {
   "cell_type": "code",
   "execution_count": 36,
   "id": "6621e6ce",
   "metadata": {},
   "outputs": [
    {
     "name": "stdout",
     "output_type": "stream",
     "text": [
      "4.5\n",
      "None\n",
      "7.666666666666667\n",
      "None\n"
     ]
    }
   ],
   "source": [
    "print(avg(4,5))\n",
    "print(avg(5,8,10))"
   ]
  },
  {
   "cell_type": "code",
   "execution_count": 14,
   "id": "138ccb2d",
   "metadata": {},
   "outputs": [
    {
     "name": "stdout",
     "output_type": "stream",
     "text": [
      "오늘 강릉에서 야구 경기가 열렸습니다. \n",
      " \n",
      "드림즈과 비룡스은 치열한 공방전을 펼쳤습니다. \n",
      "\n",
      "강두기의 맹활약으로 강릉가 드림즈를 9:7로 이겼습니다. \n"
     ]
    }
   ],
   "source": [
    "stadium =\"강릉\"\n",
    "team1 = \"드림즈\"\n",
    "team2 = \"비룡스\"\n",
    "player = \"강두기\"\n",
    "score = str(\"9:7\")\n",
    "\n",
    "\n",
    "total = '''오늘 {0}에서 야구 경기가 열렸습니다. \\n \n",
    "{1}과 {2}은 치열한 공방전을 펼쳤습니다. \\n\n",
    "{3}의 맹활약으로 {0}가 {1}를 {4}로 이겼습니다. '''.format(stadium,team1,team2, player,score)\n",
    "\n",
    "print(total)"
   ]
  },
  {
   "cell_type": "code",
   "execution_count": 21,
   "id": "21349ae4",
   "metadata": {},
   "outputs": [
    {
     "name": "stdout",
     "output_type": "stream",
     "text": [
      "현재 보유중인 삼성 의 구매가는 50달러이고 현재가는 60달러입니다.\n"
     ]
    }
   ],
   "source": [
    "stock = \"삼성\"\n",
    "purchase_price = \"50\"\n",
    "current_price = \"60\"\n",
    "\n",
    "total1 = \"현재 보유중인 {0} 의 구매가는 {1}달러이고 현재가는 {2}달러입니다.\".format(stock,purchase_price,current_price)\n",
    "print(total1)"
   ]
  },
  {
   "cell_type": "code",
   "execution_count": 30,
   "id": "40e91faf",
   "metadata": {},
   "outputs": [
    {
     "name": "stdout",
     "output_type": "stream",
     "text": [
      "입력값은 :서울시 종로구,아파트,3,100000000\n",
      "서울시 종로구 에 위치한 아주 좋은 아파트 가 매물로 나왔습니다. 이 아파트 는 3 개의 방을 가지고 있으며 가격은 100000000 입니다\n"
     ]
    }
   ],
   "source": [
    "street,st,number_of_rooms,price = input(\"입력값은 :\").split(',')\n",
    "\n",
    "print(street,'에 위치한 아주 좋은', st,'가 매물로 나왔습니다. 이',st,'는',number_of_rooms,'개의 방을 가지고 있으며 가격은',price,'입니다')"
   ]
  }
 ],
 "metadata": {
  "kernelspec": {
   "display_name": "Python 3 (ipykernel)",
   "language": "python",
   "name": "python3"
  },
  "language_info": {
   "codemirror_mode": {
    "name": "ipython",
    "version": 3
   },
   "file_extension": ".py",
   "mimetype": "text/x-python",
   "name": "python",
   "nbconvert_exporter": "python",
   "pygments_lexer": "ipython3",
   "version": "3.9.13"
  }
 },
 "nbformat": 4,
 "nbformat_minor": 5
}
